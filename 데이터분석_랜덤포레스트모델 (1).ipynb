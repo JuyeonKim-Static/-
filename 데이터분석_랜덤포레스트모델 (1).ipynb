{
 "cells": [
  {
   "cell_type": "code",
   "execution_count": 11,
   "metadata": {
    "id": "dmYtcKaaQq5E"
   },
   "outputs": [],
   "source": [
    "import pandas as pd\n",
    "import numpy as np\n",
    "import matplotlib.pyplot as plt"
   ]
  },
  {
   "cell_type": "code",
   "execution_count": 12,
   "metadata": {
    "colab": {
     "base_uri": "https://localhost:8080/",
     "height": 386
    },
    "id": "xqAHJJeJkr6j",
    "outputId": "5e2b9582-bbc4-4fcc-acff-b0cd12aa70bc"
   },
   "outputs": [],
   "source": [
    "df = pd.read_csv('df.csv',encoding='cp949')\n",
    "df_gh = pd.read_csv('df_gh.csv',encoding='cp949')\n",
    "df_gn = pd.read_csv('df_gn.csv',encoding='cp949')\n",
    "df_hn = pd.read_csv('df_hn.csv',encoding='cp949')\n",
    "df_gold = pd.read_csv('df_gold.csv',encoding='cp949')\n",
    "df_han = pd.read_csv('df_han.csv',encoding='cp949')\n",
    "df_nakdong = pd.read_csv('df_nakdong.csv',encoding='cp949')\n",
    "df_list=[df, df_gh, df_gn, df_hn, df_gold, df_han, df_nakdong]\n",
    "df_name_li=['df','df_gh','df_gn','df_hn','df_gold','df_han','df_nakdong']\n",
    "for df in df_list:\n",
    "    df['date']=pd.to_datetime(df['date'])\n",
    "    df.drop('cells', axis='columns',inplace=True)\n",
    "    df[\"datetime-day\"] = df[\"date\"].dt.day\n",
    "    df.drop(columns='date', inplace=True)"
   ]
  },
  {
   "cell_type": "code",
   "execution_count": 13,
   "metadata": {},
   "outputs": [],
   "source": [
    "for i in df_list:\n",
    "    jli=list(i.iloc[:,5:])\n",
    "    for j in jli:\n",
    "        i[j]=i.groupby(\"month\").transform(lambda x: x.fillna(x.mean()))[j]"
   ]
  },
  {
   "cell_type": "code",
   "execution_count": 53,
   "metadata": {
    "id": "DGIRcPS7o2sB",
    "scrolled": true
   },
   "outputs": [
    {
     "name": "stderr",
     "output_type": "stream",
     "text": [
      "C:\\Users\\User\\AppData\\Local\\Temp/ipykernel_6488/2687285975.py:14: DataConversionWarning: A column-vector y was passed when a 1d array was expected. Please change the shape of y to (n_samples,), for example using ravel().\n",
      "  model.fit(X_train, y_train)\n"
     ]
    },
    {
     "name": "stdout",
     "output_type": "stream",
     "text": [
      "df 예측 정확도: 0.7549065182007192\n",
      "df RMSE: 1.6301800650093292\n"
     ]
    },
    {
     "name": "stderr",
     "output_type": "stream",
     "text": [
      "C:\\Users\\User\\AppData\\Local\\Temp/ipykernel_6488/2687285975.py:14: DataConversionWarning: A column-vector y was passed when a 1d array was expected. Please change the shape of y to (n_samples,), for example using ravel().\n",
      "  model.fit(X_train, y_train)\n"
     ]
    },
    {
     "name": "stdout",
     "output_type": "stream",
     "text": [
      "df_gh 예측 정확도: 0.6488586474941173\n",
      "df_gh RMSE: 1.5716644176225814\n"
     ]
    },
    {
     "name": "stderr",
     "output_type": "stream",
     "text": [
      "C:\\Users\\User\\AppData\\Local\\Temp/ipykernel_6488/2687285975.py:14: DataConversionWarning: A column-vector y was passed when a 1d array was expected. Please change the shape of y to (n_samples,), for example using ravel().\n",
      "  model.fit(X_train, y_train)\n"
     ]
    },
    {
     "name": "stdout",
     "output_type": "stream",
     "text": [
      "df_gn 예측 정확도: 0.7371222653898626\n",
      "df_gn RMSE: 1.8130288815784026\n"
     ]
    },
    {
     "name": "stderr",
     "output_type": "stream",
     "text": [
      "C:\\Users\\User\\AppData\\Local\\Temp/ipykernel_6488/2687285975.py:14: DataConversionWarning: A column-vector y was passed when a 1d array was expected. Please change the shape of y to (n_samples,), for example using ravel().\n",
      "  model.fit(X_train, y_train)\n"
     ]
    },
    {
     "name": "stdout",
     "output_type": "stream",
     "text": [
      "df_hn 예측 정확도: 0.8028634953876119\n",
      "df_hn RMSE: 1.4865531358269226\n"
     ]
    },
    {
     "name": "stderr",
     "output_type": "stream",
     "text": [
      "C:\\Users\\User\\AppData\\Local\\Temp/ipykernel_6488/2687285975.py:14: DataConversionWarning: A column-vector y was passed when a 1d array was expected. Please change the shape of y to (n_samples,), for example using ravel().\n",
      "  model.fit(X_train, y_train)\n"
     ]
    },
    {
     "name": "stdout",
     "output_type": "stream",
     "text": [
      "df_gold 예측 정확도: 0.6996462713178229\n",
      "df_gold RMSE: 1.790228348009612\n"
     ]
    },
    {
     "name": "stderr",
     "output_type": "stream",
     "text": [
      "C:\\Users\\User\\AppData\\Local\\Temp/ipykernel_6488/2687285975.py:14: DataConversionWarning: A column-vector y was passed when a 1d array was expected. Please change the shape of y to (n_samples,), for example using ravel().\n",
      "  model.fit(X_train, y_train)\n"
     ]
    },
    {
     "name": "stdout",
     "output_type": "stream",
     "text": [
      "df_han 예측 정확도: 0.5396211897285965\n",
      "df_han RMSE: 1.3200240160611663\n"
     ]
    },
    {
     "name": "stderr",
     "output_type": "stream",
     "text": [
      "C:\\Users\\User\\AppData\\Local\\Temp/ipykernel_6488/2687285975.py:14: DataConversionWarning: A column-vector y was passed when a 1d array was expected. Please change the shape of y to (n_samples,), for example using ravel().\n",
      "  model.fit(X_train, y_train)\n"
     ]
    },
    {
     "name": "stdout",
     "output_type": "stream",
     "text": [
      "df_nakdong 예측 정확도: 0.7382418359522261\n",
      "df_nakdong RMSE: 1.7217001243291292\n"
     ]
    }
   ],
   "source": [
    "from sklearn.model_selection import train_test_split\n",
    "from sklearn.preprocessing import StandardScaler\n",
    "from sklearn.metrics import mean_squared_error, r2_score, mean_absolute_error, mean_squared_log_error\n",
    "from sklearn.ensemble import RandomForestRegressor\n",
    "\n",
    "a=0\n",
    "for df in df_list:\n",
    "#train, test 분리\n",
    "    X = df.drop([\"log_cells\"], axis=1)\n",
    "    y = df[['log_cells']]\n",
    "    b=df_name_li[a]\n",
    "    X_train, X_test, y_train, y_test = train_test_split(X, y, test_size=0.2, random_state=42)  #20%만 테스트데이터로\n",
    "    model = RandomForestRegressor(n_estimators=200 ,max_depth = 32)\n",
    "    model.fit(X_train, y_train)\n",
    "    y_pred = model.predict(X_test)\n",
    "    r_sq = model.score(X_train, y_train)  #학습데이터로 모델 평가==학습잘되었나 보는것\n",
    "    test_accuracy= model.score(X_test, y_test)\n",
    "    print(b,\"예측 정확도:\", test_accuracy)\n",
    "    RMSE = np.sqrt(mean_squared_error(y_pred , y_test))\n",
    "    print(b,\"RMSE:\", RMSE)\n",
    "    a=a+1\n",
    "    \n",
    "#연속형 변수 스케일링\n",
    "# scaler = StandardScaler()\n",
    "# scaler.fit(X_train)\n",
    "\n",
    "# X_train = scaler.transform(X_train)\n",
    "# X_test = scaler.transform(X_test)"
   ]
  },
  {
   "cell_type": "code",
   "execution_count": 52,
   "metadata": {},
   "outputs": [
    {
     "name": "stdout",
     "output_type": "stream",
     "text": [
      "df 예측 정확도: 0.8746106613584177\n",
      "df RMSE: 0.6290860143097953\n",
      "---------------------------------------------------------------------\n",
      "df_gh 예측 정확도: 0.8916597969294153\n",
      "df_gh RMSE: 0.47505619995783954\n",
      "---------------------------------------------------------------------\n",
      "df_gn 예측 정확도: 0.9107746903047454\n",
      "df_gn RMSE: 0.6432238489118957\n",
      "---------------------------------------------------------------------\n",
      "df_hn 예측 정확도: 0.9314107067944826\n",
      "df_hn RMSE: 0.751610754758534\n",
      "---------------------------------------------------------------------\n",
      "df_gold 예측 정확도: 0.9455009552739915\n",
      "df_gold RMSE: 0.581256892192161\n",
      "---------------------------------------------------------------------\n",
      "df_han 예측 정확도: 0.9417200206730812\n",
      "df_han RMSE: 0.1865937546748896\n",
      "---------------------------------------------------------------------\n",
      "df_nakdong 예측 정확도: 0.946416267281786\n",
      "df_nakdong RMSE: 0.6726125633522273\n",
      "---------------------------------------------------------------------\n"
     ]
    }
   ],
   "source": [
    "import xgboost\n",
    "from sklearn.metrics import mean_squared_error, r2_score, mean_absolute_error, mean_squared_log_error\n",
    "a=0\n",
    "for df in df_list:\n",
    "#train, test 분리\n",
    "    X = df.drop([\"log_cells\"], axis=1)\n",
    "    y = df[['log_cells']]\n",
    "    b=df_name_li[a]\n",
    "    X_train, X_test, y_train, y_test = train_test_split(X, y, test_size=0.2, random_state=42)\n",
    "    xgb_model = xgboost.XGBRegressor(n_estimators=100, learning_rate=0.08, gamma=0, subsample=0.75,\n",
    "                           colsample_bytree=1, max_depth=7)\n",
    "    xgb_model.fit(X_train,y_train)\n",
    "    r_sq = xgb_model.score(X_train, y_train)\n",
    "    print(b, \"예측 정확도:\", r_sq)\n",
    "    y_pred = xgb_model.predict(X_test)\n",
    "    RMSE = np.sqrt(mean_squared_error(y_pred , y_test))\n",
    "    print(b,\"RMSE:\", explained_variance_score(y_pred,y_test))\n",
    "    print('---------------------------------------------------------------------')\n",
    "    a= a+1"
   ]
  },
  {
   "cell_type": "code",
   "execution_count": 18,
   "metadata": {
    "colab": {
     "base_uri": "https://localhost:8080/"
    },
    "id": "njsXx6cIZTow",
    "outputId": "41aed066-17b8-430a-b550-8f0f50e42746"
   },
   "outputs": [
    {
     "name": "stderr",
     "output_type": "stream",
     "text": [
      "/usr/local/lib/python3.7/dist-packages/ipykernel_launcher.py:3: DataConversionWarning: A column-vector y was passed when a 1d array was expected. Please change the shape of y to (n_samples,), for example using ravel().\n",
      "  This is separate from the ipykernel package so we can avoid doing imports until\n"
     ]
    },
    {
     "data": {
      "text/plain": [
       "RandomForestRegressor(max_depth=12)"
      ]
     },
     "execution_count": 18,
     "metadata": {},
     "output_type": "execute_result"
    }
   ],
   "source": [
    "from sklearn.ensemble import RandomForestRegressor # 회귀트리(모델)\n",
    "model = RandomForestRegressor(n_estimators=100 ,max_depth = 12)\n",
    "model.fit(X_train, y_train)"
   ]
  },
  {
   "cell_type": "code",
   "execution_count": 19,
   "metadata": {
    "colab": {
     "base_uri": "https://localhost:8080/"
    },
    "id": "i3GcenD2pCbc",
    "outputId": "f09cf63d-f34a-45cf-8795-dd6c37e2ffdc"
   },
   "outputs": [
    {
     "name": "stdout",
     "output_type": "stream",
     "text": [
      "0.9382158572214385\n"
     ]
    }
   ],
   "source": [
    "r_sq = model.score(X_train, y_train)  #학습데이터로 모델 평가==학습잘되었나 보는것\n",
    "print(r_sq)"
   ]
  },
  {
   "cell_type": "markdown",
   "metadata": {
    "id": "ECVXEb0Jp5uI"
   },
   "source": [
    "평가지표"
   ]
  },
  {
   "cell_type": "code",
   "execution_count": 21,
   "metadata": {
    "colab": {
     "base_uri": "https://localhost:8080/"
    },
    "id": "EFbYb9QVpD4L",
    "outputId": "8b68b7cd-7b36-4e98-c325-a7422b4a032a"
   },
   "outputs": [
    {
     "name": "stdout",
     "output_type": "stream",
     "text": [
      "0.8053873419561883\n"
     ]
    }
   ],
   "source": [
    "test_accuracy= model.score(X_test, y_test)\n",
    "print(test_accuracy)   #test데이터로 정확도(예측력)"
   ]
  },
  {
   "cell_type": "code",
   "execution_count": 22,
   "metadata": {
    "id": "xf36DMBssW7O"
   },
   "outputs": [],
   "source": [
    "y_pred = model.predict(X_test)"
   ]
  },
  {
   "cell_type": "markdown",
   "metadata": {
    "id": "jo0xTGBSIbfB"
   },
   "source": [
    "하이퍼 파라미터 튜닝"
   ]
  },
  {
   "cell_type": "code",
   "execution_count": 17,
   "metadata": {
    "colab": {
     "base_uri": "https://localhost:8080/"
    },
    "id": "cagt0jWGIbM5",
    "outputId": "d2b7f282-a43a-4098-c6d9-e5583d8d87ab"
   },
   "outputs": [
    {
     "name": "stderr",
     "output_type": "stream",
     "text": [
      "/usr/local/lib/python3.7/dist-packages/sklearn/model_selection/_search.py:926: DataConversionWarning: A column-vector y was passed when a 1d array was expected. Please change the shape of y to (n_samples,), for example using ravel().\n",
      "  self.best_estimator_.fit(X, y, **fit_params)\n"
     ]
    },
    {
     "name": "stdout",
     "output_type": "stream",
     "text": [
      "최적 하이퍼 파라미터:  {'max_depth': 12, 'min_samples_leaf': 8, 'min_samples_split': 8, 'n_estimators': 100}\n",
      "최고 예측 정확도: 0.7705\n"
     ]
    }
   ],
   "source": [
    "from sklearn.model_selection import GridSearchCV\n",
    "\n",
    "params = { 'n_estimators' : [10, 100],\n",
    "           'max_depth' : [6, 8, 10, 12],\n",
    "           'min_samples_leaf' : [8, 12, 18],\n",
    "           'min_samples_split' : [8, 16, 20]\n",
    "            }\n",
    "\n",
    "# RandomForestClassifier 객체 생성 후 GridSearchCV 수행\n",
    "grid_cv = GridSearchCV( model , param_grid = params, cv = 3, n_jobs = -1)\n",
    "grid_cv.fit(X_train, y_train)\n",
    "\n",
    "print('최적 하이퍼 파라미터: ', grid_cv.best_params_)\n",
    "print('최고 예측 정확도: {:.4f}'.format(grid_cv.best_score_))"
   ]
  },
  {
   "cell_type": "code",
   "execution_count": 44,
   "metadata": {
    "colab": {
     "base_uri": "https://localhost:8080/"
    },
    "id": "sX5Qx8iHsLTB",
    "outputId": "b223a411-2ffe-4b08-a33f-1367e1258abd"
   },
   "outputs": [
    {
     "name": "stdout",
     "output_type": "stream",
     "text": [
      "2.3677640410064082\n",
      "1.538754054748974\n",
      "0.742282229519351\n",
      "0.5393496960405919\n"
     ]
    }
   ],
   "source": [
    "from sklearn.metrics import mean_squared_error, r2_score, mean_absolute_error, mean_squared_log_error\n",
    "mse = mean_squared_error(y_pred , y_test)\n",
    "rmse = np.sqrt(mse)\n",
    "r2 = r2_score(y_pred , y_test)\n",
    "RMSLE = np.sqrt(mean_squared_log_error(y_pred , y_test))\n",
    "print(mse)\n",
    "print(rmse)\n",
    "print(r2)\n",
    "print(RMSLE)"
   ]
  },
  {
   "cell_type": "code",
   "execution_count": 65,
   "metadata": {
    "id": "9rxr96OSs3Bk"
   },
   "outputs": [],
   "source": [
    "from sklearn.tree import export_graphviz\n",
    "from graphviz import Source\n",
    "estimator = model.estimators_[80]\n",
    "\n",
    "export_graphviz(estimator, out_file='model.dot', \n",
    "                feature_names = X.columns,\n",
    "                max_depth = 3, # 표현하고 싶은 최대 depth\n",
    "                precision = 3, # 소수점 표기 자릿수\n",
    "                filled = True, # class별 color 채우기\n",
    "                rounded=True, # 박스의 모양을 둥글게\n",
    "               )"
   ]
  },
  {
   "cell_type": "code",
   "execution_count": 66,
   "metadata": {
    "colab": {
     "base_uri": "https://localhost:8080/",
     "height": 654
    },
    "id": "ma8NoCZPw9N4",
    "outputId": "cea2256e-fc99-4f36-c4e9-d86b00250a2d"
   },
   "outputs": [
    {
     "data": {
      "image/svg+xml": [
       "<?xml version=\"1.0\" encoding=\"UTF-8\" standalone=\"no\"?>\n",
       "<!DOCTYPE svg PUBLIC \"-//W3C//DTD SVG 1.1//EN\"\n",
       " \"http://www.w3.org/Graphics/SVG/1.1/DTD/svg11.dtd\">\n",
       "<!-- Generated by graphviz version 2.40.1 (20161225.0304)\n",
       " -->\n",
       "<!-- Title: Tree Pages: 1 -->\n",
       "<svg width=\"1446pt\" height=\"460pt\"\n",
       " viewBox=\"0.00 0.00 1446.00 460.00\" xmlns=\"http://www.w3.org/2000/svg\" xmlns:xlink=\"http://www.w3.org/1999/xlink\">\n",
       "<g id=\"graph0\" class=\"graph\" transform=\"scale(1 1) rotate(0) translate(4 456)\">\n",
       "<title>Tree</title>\n",
       "<polygon fill=\"#ffffff\" stroke=\"transparent\" points=\"-4,4 -4,-456 1442,-456 1442,4 -4,4\"/>\n",
       "<!-- 0 -->\n",
       "<g id=\"node1\" class=\"node\">\n",
       "<title>0</title>\n",
       "<path fill=\"#fae5d6\" stroke=\"#000000\" d=\"M752,-452C752,-452 615,-452 615,-452 609,-452 603,-446 603,-440 603,-440 603,-396 603,-396 603,-390 609,-384 615,-384 615,-384 752,-384 752,-384 758,-384 764,-390 764,-396 764,-396 764,-440 764,-440 764,-446 758,-452 752,-452\"/>\n",
       "<text text-anchor=\"middle\" x=\"683.5\" y=\"-436.8\" font-family=\"Helvetica,sans-Serif\" font-size=\"14.00\" fill=\"#000000\">day_rain &lt;= 0.526</text>\n",
       "<text text-anchor=\"middle\" x=\"683.5\" y=\"-421.8\" font-family=\"Helvetica,sans-Serif\" font-size=\"14.00\" fill=\"#000000\">squared_error = 12.36</text>\n",
       "<text text-anchor=\"middle\" x=\"683.5\" y=\"-406.8\" font-family=\"Helvetica,sans-Serif\" font-size=\"14.00\" fill=\"#000000\">samples = 4506</text>\n",
       "<text text-anchor=\"middle\" x=\"683.5\" y=\"-391.8\" font-family=\"Helvetica,sans-Serif\" font-size=\"14.00\" fill=\"#000000\">value = 2.922</text>\n",
       "</g>\n",
       "<!-- 1 -->\n",
       "<g id=\"node2\" class=\"node\">\n",
       "<title>1</title>\n",
       "<path fill=\"#fdf6f0\" stroke=\"#000000\" d=\"M656,-348C656,-348 519,-348 519,-348 513,-348 507,-342 507,-336 507,-336 507,-292 507,-292 507,-286 513,-280 519,-280 519,-280 656,-280 656,-280 662,-280 668,-286 668,-292 668,-292 668,-336 668,-336 668,-342 662,-348 656,-348\"/>\n",
       "<text text-anchor=\"middle\" x=\"587.5\" y=\"-332.8\" font-family=\"Helvetica,sans-Serif\" font-size=\"14.00\" fill=\"#000000\">water_temp &lt;= 0.707</text>\n",
       "<text text-anchor=\"middle\" x=\"587.5\" y=\"-317.8\" font-family=\"Helvetica,sans-Serif\" font-size=\"14.00\" fill=\"#000000\">squared_error = 4.948</text>\n",
       "<text text-anchor=\"middle\" x=\"587.5\" y=\"-302.8\" font-family=\"Helvetica,sans-Serif\" font-size=\"14.00\" fill=\"#000000\">samples = 2440</text>\n",
       "<text text-anchor=\"middle\" x=\"587.5\" y=\"-287.8\" font-family=\"Helvetica,sans-Serif\" font-size=\"14.00\" fill=\"#000000\">value = 1.037</text>\n",
       "</g>\n",
       "<!-- 0&#45;&gt;1 -->\n",
       "<g id=\"edge1\" class=\"edge\">\n",
       "<title>0&#45;&gt;1</title>\n",
       "<path fill=\"none\" stroke=\"#000000\" d=\"M652.066,-383.9465C643.6953,-374.8782 634.5584,-364.9799 625.8617,-355.5585\"/>\n",
       "<polygon fill=\"#000000\" stroke=\"#000000\" points=\"628.3593,-353.1041 619.0046,-348.13 623.2156,-357.852 628.3593,-353.1041\"/>\n",
       "<text text-anchor=\"middle\" x=\"618.0054\" y=\"-369.41\" font-family=\"Helvetica,sans-Serif\" font-size=\"14.00\" fill=\"#000000\">True</text>\n",
       "</g>\n",
       "<!-- 596 -->\n",
       "<g id=\"node17\" class=\"node\">\n",
       "<title>596</title>\n",
       "<path fill=\"#f5d0b6\" stroke=\"#000000\" d=\"M930,-348C930,-348 793,-348 793,-348 787,-348 781,-342 781,-336 781,-336 781,-292 781,-292 781,-286 787,-280 793,-280 793,-280 930,-280 930,-280 936,-280 942,-286 942,-292 942,-292 942,-336 942,-336 942,-342 936,-348 930,-348\"/>\n",
       "<text text-anchor=\"middle\" x=\"861.5\" y=\"-332.8\" font-family=\"Helvetica,sans-Serif\" font-size=\"14.00\" fill=\"#000000\">water_temp &lt;= 0.72</text>\n",
       "<text text-anchor=\"middle\" x=\"861.5\" y=\"-317.8\" font-family=\"Helvetica,sans-Serif\" font-size=\"14.00\" fill=\"#000000\">squared_error = 11.83</text>\n",
       "<text text-anchor=\"middle\" x=\"861.5\" y=\"-302.8\" font-family=\"Helvetica,sans-Serif\" font-size=\"14.00\" fill=\"#000000\">samples = 2066</text>\n",
       "<text text-anchor=\"middle\" x=\"861.5\" y=\"-287.8\" font-family=\"Helvetica,sans-Serif\" font-size=\"14.00\" fill=\"#000000\">value = 5.202</text>\n",
       "</g>\n",
       "<!-- 0&#45;&gt;596 -->\n",
       "<g id=\"edge16\" class=\"edge\">\n",
       "<title>0&#45;&gt;596</title>\n",
       "<path fill=\"none\" stroke=\"#000000\" d=\"M741.7839,-383.9465C758.534,-374.1599 776.9386,-363.4066 794.1862,-353.3294\"/>\n",
       "<polygon fill=\"#000000\" stroke=\"#000000\" points=\"796.2166,-356.1968 803.0852,-348.13 792.6852,-350.1528 796.2166,-356.1968\"/>\n",
       "<text text-anchor=\"middle\" x=\"796.7398\" y=\"-368.6113\" font-family=\"Helvetica,sans-Serif\" font-size=\"14.00\" fill=\"#000000\">False</text>\n",
       "</g>\n",
       "<!-- 2 -->\n",
       "<g id=\"node3\" class=\"node\">\n",
       "<title>2</title>\n",
       "<path fill=\"#fefaf7\" stroke=\"#000000\" d=\"M341.5,-244C341.5,-244 177.5,-244 177.5,-244 171.5,-244 165.5,-238 165.5,-232 165.5,-232 165.5,-188 165.5,-188 165.5,-182 171.5,-176 177.5,-176 177.5,-176 341.5,-176 341.5,-176 347.5,-176 353.5,-182 353.5,-188 353.5,-188 353.5,-232 353.5,-232 353.5,-238 347.5,-244 341.5,-244\"/>\n",
       "<text text-anchor=\"middle\" x=\"259.5\" y=\"-228.8\" font-family=\"Helvetica,sans-Serif\" font-size=\"14.00\" fill=\"#000000\">scrap_around_7 &lt;= &#45;0.306</text>\n",
       "<text text-anchor=\"middle\" x=\"259.5\" y=\"-213.8\" font-family=\"Helvetica,sans-Serif\" font-size=\"14.00\" fill=\"#000000\">squared_error = 2.726</text>\n",
       "<text text-anchor=\"middle\" x=\"259.5\" y=\"-198.8\" font-family=\"Helvetica,sans-Serif\" font-size=\"14.00\" fill=\"#000000\">samples = 1852</text>\n",
       "<text text-anchor=\"middle\" x=\"259.5\" y=\"-183.8\" font-family=\"Helvetica,sans-Serif\" font-size=\"14.00\" fill=\"#000000\">value = 0.549</text>\n",
       "</g>\n",
       "<!-- 1&#45;&gt;2 -->\n",
       "<g id=\"edge2\" class=\"edge\">\n",
       "<title>1&#45;&gt;2</title>\n",
       "<path fill=\"none\" stroke=\"#000000\" d=\"M506.8421,-288.4255C463.5443,-274.697 409.691,-257.6215 363.3,-242.9122\"/>\n",
       "<polygon fill=\"#000000\" stroke=\"#000000\" points=\"364.1106,-239.4975 353.5204,-239.8113 361.9948,-246.1702 364.1106,-239.4975\"/>\n",
       "</g>\n",
       "<!-- 243 -->\n",
       "<g id=\"node10\" class=\"node\">\n",
       "<title>243</title>\n",
       "<path fill=\"#fae8db\" stroke=\"#000000\" d=\"M669.5,-244C669.5,-244 505.5,-244 505.5,-244 499.5,-244 493.5,-238 493.5,-232 493.5,-232 493.5,-188 493.5,-188 493.5,-182 499.5,-176 505.5,-176 505.5,-176 669.5,-176 669.5,-176 675.5,-176 681.5,-182 681.5,-188 681.5,-188 681.5,-232 681.5,-232 681.5,-238 675.5,-244 669.5,-244\"/>\n",
       "<text text-anchor=\"middle\" x=\"587.5\" y=\"-228.8\" font-family=\"Helvetica,sans-Serif\" font-size=\"14.00\" fill=\"#000000\">scrap_around_7 &lt;= &#45;0.306</text>\n",
       "<text text-anchor=\"middle\" x=\"587.5\" y=\"-213.8\" font-family=\"Helvetica,sans-Serif\" font-size=\"14.00\" fill=\"#000000\">squared_error = 8.806</text>\n",
       "<text text-anchor=\"middle\" x=\"587.5\" y=\"-198.8\" font-family=\"Helvetica,sans-Serif\" font-size=\"14.00\" fill=\"#000000\">samples = 588</text>\n",
       "<text text-anchor=\"middle\" x=\"587.5\" y=\"-183.8\" font-family=\"Helvetica,sans-Serif\" font-size=\"14.00\" fill=\"#000000\">value = 2.543</text>\n",
       "</g>\n",
       "<!-- 1&#45;&gt;243 -->\n",
       "<g id=\"edge9\" class=\"edge\">\n",
       "<title>1&#45;&gt;243</title>\n",
       "<path fill=\"none\" stroke=\"#000000\" d=\"M587.5,-279.9465C587.5,-271.776 587.5,-262.9318 587.5,-254.3697\"/>\n",
       "<polygon fill=\"#000000\" stroke=\"#000000\" points=\"591.0001,-254.13 587.5,-244.13 584.0001,-254.13 591.0001,-254.13\"/>\n",
       "</g>\n",
       "<!-- 3 -->\n",
       "<g id=\"node4\" class=\"node\">\n",
       "<title>3</title>\n",
       "<path fill=\"#fefcfb\" stroke=\"#000000\" d=\"M149,-140C149,-140 12,-140 12,-140 6,-140 0,-134 0,-128 0,-128 0,-84 0,-84 0,-78 6,-72 12,-72 12,-72 149,-72 149,-72 155,-72 161,-78 161,-84 161,-84 161,-128 161,-128 161,-134 155,-140 149,-140\"/>\n",
       "<text text-anchor=\"middle\" x=\"80.5\" y=\"-124.8\" font-family=\"Helvetica,sans-Serif\" font-size=\"14.00\" fill=\"#000000\">pH &lt;= &#45;3.412</text>\n",
       "<text text-anchor=\"middle\" x=\"80.5\" y=\"-109.8\" font-family=\"Helvetica,sans-Serif\" font-size=\"14.00\" fill=\"#000000\">squared_error = 1.572</text>\n",
       "<text text-anchor=\"middle\" x=\"80.5\" y=\"-94.8\" font-family=\"Helvetica,sans-Serif\" font-size=\"14.00\" fill=\"#000000\">samples = 1397</text>\n",
       "<text text-anchor=\"middle\" x=\"80.5\" y=\"-79.8\" font-family=\"Helvetica,sans-Serif\" font-size=\"14.00\" fill=\"#000000\">value = 0.284</text>\n",
       "</g>\n",
       "<!-- 2&#45;&gt;3 -->\n",
       "<g id=\"edge3\" class=\"edge\">\n",
       "<title>2&#45;&gt;3</title>\n",
       "<path fill=\"none\" stroke=\"#000000\" d=\"M200.8887,-175.9465C184.0445,-166.1599 165.5364,-155.4066 148.192,-145.3294\"/>\n",
       "<polygon fill=\"#000000\" stroke=\"#000000\" points=\"149.6478,-142.1274 139.243,-140.13 146.1312,-148.18 149.6478,-142.1274\"/>\n",
       "</g>\n",
       "<!-- 124 -->\n",
       "<g id=\"node7\" class=\"node\">\n",
       "<title>124</title>\n",
       "<path fill=\"#fcf3ec\" stroke=\"#000000\" d=\"M328,-140C328,-140 191,-140 191,-140 185,-140 179,-134 179,-128 179,-128 179,-84 179,-84 179,-78 185,-72 191,-72 191,-72 328,-72 328,-72 334,-72 340,-78 340,-84 340,-84 340,-128 340,-128 340,-134 334,-140 328,-140\"/>\n",
       "<text text-anchor=\"middle\" x=\"259.5\" y=\"-124.8\" font-family=\"Helvetica,sans-Serif\" font-size=\"14.00\" fill=\"#000000\">season &lt;= &#45;0.821</text>\n",
       "<text text-anchor=\"middle\" x=\"259.5\" y=\"-109.8\" font-family=\"Helvetica,sans-Serif\" font-size=\"14.00\" fill=\"#000000\">squared_error = 5.394</text>\n",
       "<text text-anchor=\"middle\" x=\"259.5\" y=\"-94.8\" font-family=\"Helvetica,sans-Serif\" font-size=\"14.00\" fill=\"#000000\">samples = 455</text>\n",
       "<text text-anchor=\"middle\" x=\"259.5\" y=\"-79.8\" font-family=\"Helvetica,sans-Serif\" font-size=\"14.00\" fill=\"#000000\">value = 1.366</text>\n",
       "</g>\n",
       "<!-- 2&#45;&gt;124 -->\n",
       "<g id=\"edge6\" class=\"edge\">\n",
       "<title>2&#45;&gt;124</title>\n",
       "<path fill=\"none\" stroke=\"#000000\" d=\"M259.5,-175.9465C259.5,-167.776 259.5,-158.9318 259.5,-150.3697\"/>\n",
       "<polygon fill=\"#000000\" stroke=\"#000000\" points=\"263.0001,-150.13 259.5,-140.13 256.0001,-150.13 263.0001,-150.13\"/>\n",
       "</g>\n",
       "<!-- 4 -->\n",
       "<g id=\"node5\" class=\"node\">\n",
       "<title>4</title>\n",
       "<path fill=\"#c0c0c0\" stroke=\"#000000\" d=\"M59.5,-36C59.5,-36 29.5,-36 29.5,-36 23.5,-36 17.5,-30 17.5,-24 17.5,-24 17.5,-12 17.5,-12 17.5,-6 23.5,0 29.5,0 29.5,0 59.5,0 59.5,0 65.5,0 71.5,-6 71.5,-12 71.5,-12 71.5,-24 71.5,-24 71.5,-30 65.5,-36 59.5,-36\"/>\n",
       "<text text-anchor=\"middle\" x=\"44.5\" y=\"-14.3\" font-family=\"Helvetica,sans-Serif\" font-size=\"14.00\" fill=\"#000000\">(...)</text>\n",
       "</g>\n",
       "<!-- 3&#45;&gt;4 -->\n",
       "<g id=\"edge4\" class=\"edge\">\n",
       "<title>3&#45;&gt;4</title>\n",
       "<path fill=\"none\" stroke=\"#000000\" d=\"M66.5815,-71.9769C62.9977,-63.2167 59.1862,-53.8995 55.7564,-45.5157\"/>\n",
       "<polygon fill=\"#000000\" stroke=\"#000000\" points=\"58.968,-44.1222 51.9422,-36.192 52.4891,-46.7727 58.968,-44.1222\"/>\n",
       "</g>\n",
       "<!-- 11 -->\n",
       "<g id=\"node6\" class=\"node\">\n",
       "<title>11</title>\n",
       "<path fill=\"#c0c0c0\" stroke=\"#000000\" d=\"M131.5,-36C131.5,-36 101.5,-36 101.5,-36 95.5,-36 89.5,-30 89.5,-24 89.5,-24 89.5,-12 89.5,-12 89.5,-6 95.5,0 101.5,0 101.5,0 131.5,0 131.5,0 137.5,0 143.5,-6 143.5,-12 143.5,-12 143.5,-24 143.5,-24 143.5,-30 137.5,-36 131.5,-36\"/>\n",
       "<text text-anchor=\"middle\" x=\"116.5\" y=\"-14.3\" font-family=\"Helvetica,sans-Serif\" font-size=\"14.00\" fill=\"#000000\">(...)</text>\n",
       "</g>\n",
       "<!-- 3&#45;&gt;11 -->\n",
       "<g id=\"edge5\" class=\"edge\">\n",
       "<title>3&#45;&gt;11</title>\n",
       "<path fill=\"none\" stroke=\"#000000\" d=\"M94.4185,-71.9769C98.0023,-63.2167 101.8138,-53.8995 105.2436,-45.5157\"/>\n",
       "<polygon fill=\"#000000\" stroke=\"#000000\" points=\"108.5109,-46.7727 109.0578,-36.192 102.032,-44.1222 108.5109,-46.7727\"/>\n",
       "</g>\n",
       "<!-- 125 -->\n",
       "<g id=\"node8\" class=\"node\">\n",
       "<title>125</title>\n",
       "<path fill=\"#c0c0c0\" stroke=\"#000000\" d=\"M239.5,-36C239.5,-36 209.5,-36 209.5,-36 203.5,-36 197.5,-30 197.5,-24 197.5,-24 197.5,-12 197.5,-12 197.5,-6 203.5,0 209.5,0 209.5,0 239.5,0 239.5,0 245.5,0 251.5,-6 251.5,-12 251.5,-12 251.5,-24 251.5,-24 251.5,-30 245.5,-36 239.5,-36\"/>\n",
       "<text text-anchor=\"middle\" x=\"224.5\" y=\"-14.3\" font-family=\"Helvetica,sans-Serif\" font-size=\"14.00\" fill=\"#000000\">(...)</text>\n",
       "</g>\n",
       "<!-- 124&#45;&gt;125 -->\n",
       "<g id=\"edge7\" class=\"edge\">\n",
       "<title>124&#45;&gt;125</title>\n",
       "<path fill=\"none\" stroke=\"#000000\" d=\"M245.9681,-71.9769C242.4839,-63.2167 238.7782,-53.8995 235.4438,-45.5157\"/>\n",
       "<polygon fill=\"#000000\" stroke=\"#000000\" points=\"238.6834,-44.1905 231.7354,-36.192 232.179,-46.7775 238.6834,-44.1905\"/>\n",
       "</g>\n",
       "<!-- 202 -->\n",
       "<g id=\"node9\" class=\"node\">\n",
       "<title>202</title>\n",
       "<path fill=\"#c0c0c0\" stroke=\"#000000\" d=\"M311.5,-36C311.5,-36 281.5,-36 281.5,-36 275.5,-36 269.5,-30 269.5,-24 269.5,-24 269.5,-12 269.5,-12 269.5,-6 275.5,0 281.5,0 281.5,0 311.5,0 311.5,0 317.5,0 323.5,-6 323.5,-12 323.5,-12 323.5,-24 323.5,-24 323.5,-30 317.5,-36 311.5,-36\"/>\n",
       "<text text-anchor=\"middle\" x=\"296.5\" y=\"-14.3\" font-family=\"Helvetica,sans-Serif\" font-size=\"14.00\" fill=\"#000000\">(...)</text>\n",
       "</g>\n",
       "<!-- 124&#45;&gt;202 -->\n",
       "<g id=\"edge8\" class=\"edge\">\n",
       "<title>124&#45;&gt;202</title>\n",
       "<path fill=\"none\" stroke=\"#000000\" d=\"M273.8052,-71.9769C277.4884,-63.2167 281.4059,-53.8995 284.9309,-45.5157\"/>\n",
       "<polygon fill=\"#000000\" stroke=\"#000000\" points=\"288.2016,-46.7669 288.8511,-36.192 281.7487,-44.0537 288.2016,-46.7669\"/>\n",
       "</g>\n",
       "<!-- 244 -->\n",
       "<g id=\"node11\" class=\"node\">\n",
       "<title>244</title>\n",
       "<path fill=\"#fcf1e9\" stroke=\"#000000\" d=\"M507,-140C507,-140 370,-140 370,-140 364,-140 358,-134 358,-128 358,-128 358,-84 358,-84 358,-78 364,-72 370,-72 370,-72 507,-72 507,-72 513,-72 519,-78 519,-84 519,-84 519,-128 519,-128 519,-134 513,-140 507,-140\"/>\n",
       "<text text-anchor=\"middle\" x=\"438.5\" y=\"-124.8\" font-family=\"Helvetica,sans-Serif\" font-size=\"14.00\" fill=\"#000000\">prcptqy_std &lt;= &#45;0.276</text>\n",
       "<text text-anchor=\"middle\" x=\"438.5\" y=\"-109.8\" font-family=\"Helvetica,sans-Serif\" font-size=\"14.00\" fill=\"#000000\">squared_error = 6.995</text>\n",
       "<text text-anchor=\"middle\" x=\"438.5\" y=\"-94.8\" font-family=\"Helvetica,sans-Serif\" font-size=\"14.00\" fill=\"#000000\">samples = 374</text>\n",
       "<text text-anchor=\"middle\" x=\"438.5\" y=\"-79.8\" font-family=\"Helvetica,sans-Serif\" font-size=\"14.00\" fill=\"#000000\">value = 1.593</text>\n",
       "</g>\n",
       "<!-- 243&#45;&gt;244 -->\n",
       "<g id=\"edge10\" class=\"edge\">\n",
       "<title>243&#45;&gt;244</title>\n",
       "<path fill=\"none\" stroke=\"#000000\" d=\"M538.7118,-175.9465C524.9479,-166.3395 509.8494,-155.8009 495.6426,-145.8848\"/>\n",
       "<polygon fill=\"#000000\" stroke=\"#000000\" points=\"497.6011,-142.9835 487.3978,-140.13 493.5946,-148.7236 497.6011,-142.9835\"/>\n",
       "</g>\n",
       "<!-- 397 -->\n",
       "<g id=\"node14\" class=\"node\">\n",
       "<title>397</title>\n",
       "<path fill=\"#f7d9c4\" stroke=\"#000000\" d=\"M709.5,-140C709.5,-140 549.5,-140 549.5,-140 543.5,-140 537.5,-134 537.5,-128 537.5,-128 537.5,-84 537.5,-84 537.5,-78 543.5,-72 549.5,-72 549.5,-72 709.5,-72 709.5,-72 715.5,-72 721.5,-78 721.5,-84 721.5,-84 721.5,-128 721.5,-128 721.5,-134 715.5,-140 709.5,-140\"/>\n",
       "<text text-anchor=\"middle\" x=\"629.5\" y=\"-124.8\" font-family=\"Helvetica,sans-Serif\" font-size=\"14.00\" fill=\"#000000\">scrap_around_5 &lt;= 0.183</text>\n",
       "<text text-anchor=\"middle\" x=\"629.5\" y=\"-109.8\" font-family=\"Helvetica,sans-Serif\" font-size=\"14.00\" fill=\"#000000\">squared_error = 7.676</text>\n",
       "<text text-anchor=\"middle\" x=\"629.5\" y=\"-94.8\" font-family=\"Helvetica,sans-Serif\" font-size=\"14.00\" fill=\"#000000\">samples = 214</text>\n",
       "<text text-anchor=\"middle\" x=\"629.5\" y=\"-79.8\" font-family=\"Helvetica,sans-Serif\" font-size=\"14.00\" fill=\"#000000\">value = 4.186</text>\n",
       "</g>\n",
       "<!-- 243&#45;&gt;397 -->\n",
       "<g id=\"edge13\" class=\"edge\">\n",
       "<title>243&#45;&gt;397</title>\n",
       "<path fill=\"none\" stroke=\"#000000\" d=\"M601.2524,-175.9465C604.6608,-167.5067 608.3595,-158.3479 611.9231,-149.5239\"/>\n",
       "<polygon fill=\"#000000\" stroke=\"#000000\" points=\"615.2174,-150.7131 615.7167,-140.13 608.7267,-148.0918 615.2174,-150.7131\"/>\n",
       "</g>\n",
       "<!-- 245 -->\n",
       "<g id=\"node12\" class=\"node\">\n",
       "<title>245</title>\n",
       "<path fill=\"#c0c0c0\" stroke=\"#000000\" d=\"M429.5,-36C429.5,-36 399.5,-36 399.5,-36 393.5,-36 387.5,-30 387.5,-24 387.5,-24 387.5,-12 387.5,-12 387.5,-6 393.5,0 399.5,0 399.5,0 429.5,0 429.5,0 435.5,0 441.5,-6 441.5,-12 441.5,-12 441.5,-24 441.5,-24 441.5,-30 435.5,-36 429.5,-36\"/>\n",
       "<text text-anchor=\"middle\" x=\"414.5\" y=\"-14.3\" font-family=\"Helvetica,sans-Serif\" font-size=\"14.00\" fill=\"#000000\">(...)</text>\n",
       "</g>\n",
       "<!-- 244&#45;&gt;245 -->\n",
       "<g id=\"edge11\" class=\"edge\">\n",
       "<title>244&#45;&gt;245</title>\n",
       "<path fill=\"none\" stroke=\"#000000\" d=\"M429.221,-71.9769C426.8838,-63.4071 424.4012,-54.3043 422.1538,-46.0638\"/>\n",
       "<polygon fill=\"#000000\" stroke=\"#000000\" points=\"425.4694,-44.9187 419.4614,-36.192 418.716,-46.7605 425.4694,-44.9187\"/>\n",
       "</g>\n",
       "<!-- 272 -->\n",
       "<g id=\"node13\" class=\"node\">\n",
       "<title>272</title>\n",
       "<path fill=\"#c0c0c0\" stroke=\"#000000\" d=\"M501.5,-36C501.5,-36 471.5,-36 471.5,-36 465.5,-36 459.5,-30 459.5,-24 459.5,-24 459.5,-12 459.5,-12 459.5,-6 465.5,0 471.5,0 471.5,0 501.5,0 501.5,0 507.5,0 513.5,-6 513.5,-12 513.5,-12 513.5,-24 513.5,-24 513.5,-30 507.5,-36 501.5,-36\"/>\n",
       "<text text-anchor=\"middle\" x=\"486.5\" y=\"-14.3\" font-family=\"Helvetica,sans-Serif\" font-size=\"14.00\" fill=\"#000000\">(...)</text>\n",
       "</g>\n",
       "<!-- 244&#45;&gt;272 -->\n",
       "<g id=\"edge12\" class=\"edge\">\n",
       "<title>244&#45;&gt;272</title>\n",
       "<path fill=\"none\" stroke=\"#000000\" d=\"M457.0581,-71.9769C461.8883,-63.1215 467.029,-53.6969 471.6404,-45.2427\"/>\n",
       "<polygon fill=\"#000000\" stroke=\"#000000\" points=\"474.8612,-46.6469 476.5771,-36.192 468.7159,-43.2949 474.8612,-46.6469\"/>\n",
       "</g>\n",
       "<!-- 398 -->\n",
       "<g id=\"node15\" class=\"node\">\n",
       "<title>398</title>\n",
       "<path fill=\"#c0c0c0\" stroke=\"#000000\" d=\"M595.5,-36C595.5,-36 565.5,-36 565.5,-36 559.5,-36 553.5,-30 553.5,-24 553.5,-24 553.5,-12 553.5,-12 553.5,-6 559.5,0 565.5,0 565.5,0 595.5,0 595.5,0 601.5,0 607.5,-6 607.5,-12 607.5,-12 607.5,-24 607.5,-24 607.5,-30 601.5,-36 595.5,-36\"/>\n",
       "<text text-anchor=\"middle\" x=\"580.5\" y=\"-14.3\" font-family=\"Helvetica,sans-Serif\" font-size=\"14.00\" fill=\"#000000\">(...)</text>\n",
       "</g>\n",
       "<!-- 397&#45;&gt;398 -->\n",
       "<g id=\"edge14\" class=\"edge\">\n",
       "<title>397&#45;&gt;398</title>\n",
       "<path fill=\"none\" stroke=\"#000000\" d=\"M610.5553,-71.9769C605.5714,-63.0262 600.2638,-53.4941 595.5175,-44.9703\"/>\n",
       "<polygon fill=\"#000000\" stroke=\"#000000\" points=\"598.5524,-43.2261 590.6296,-36.192 592.4366,-46.6316 598.5524,-43.2261\"/>\n",
       "</g>\n",
       "<!-- 487 -->\n",
       "<g id=\"node16\" class=\"node\">\n",
       "<title>487</title>\n",
       "<path fill=\"#c0c0c0\" stroke=\"#000000\" d=\"M667.5,-36C667.5,-36 637.5,-36 637.5,-36 631.5,-36 625.5,-30 625.5,-24 625.5,-24 625.5,-12 625.5,-12 625.5,-6 631.5,0 637.5,0 637.5,0 667.5,0 667.5,0 673.5,0 679.5,-6 679.5,-12 679.5,-12 679.5,-24 679.5,-24 679.5,-30 673.5,-36 667.5,-36\"/>\n",
       "<text text-anchor=\"middle\" x=\"652.5\" y=\"-14.3\" font-family=\"Helvetica,sans-Serif\" font-size=\"14.00\" fill=\"#000000\">(...)</text>\n",
       "</g>\n",
       "<!-- 397&#45;&gt;487 -->\n",
       "<g id=\"edge15\" class=\"edge\">\n",
       "<title>397&#45;&gt;487</title>\n",
       "<path fill=\"none\" stroke=\"#000000\" d=\"M638.3924,-71.9769C640.6322,-63.4071 643.0114,-54.3043 645.1651,-46.0638\"/>\n",
       "<polygon fill=\"#000000\" stroke=\"#000000\" points=\"648.6028,-46.752 647.7453,-36.192 641.8303,-44.9819 648.6028,-46.752\"/>\n",
       "</g>\n",
       "<!-- 597 -->\n",
       "<g id=\"node18\" class=\"node\">\n",
       "<title>597</title>\n",
       "<path fill=\"#f8dfcd\" stroke=\"#000000\" d=\"M930,-244C930,-244 793,-244 793,-244 787,-244 781,-238 781,-232 781,-232 781,-188 781,-188 781,-182 787,-176 793,-176 793,-176 930,-176 930,-176 936,-176 942,-182 942,-188 942,-188 942,-232 942,-232 942,-238 936,-244 930,-244\"/>\n",
       "<text text-anchor=\"middle\" x=\"861.5\" y=\"-228.8\" font-family=\"Helvetica,sans-Serif\" font-size=\"14.00\" fill=\"#000000\">season &lt;= &#45;0.821</text>\n",
       "<text text-anchor=\"middle\" x=\"861.5\" y=\"-213.8\" font-family=\"Helvetica,sans-Serif\" font-size=\"14.00\" fill=\"#000000\">squared_error = 8.004</text>\n",
       "<text text-anchor=\"middle\" x=\"861.5\" y=\"-198.8\" font-family=\"Helvetica,sans-Serif\" font-size=\"14.00\" fill=\"#000000\">samples = 1304</text>\n",
       "<text text-anchor=\"middle\" x=\"861.5\" y=\"-183.8\" font-family=\"Helvetica,sans-Serif\" font-size=\"14.00\" fill=\"#000000\">value = 3.524</text>\n",
       "</g>\n",
       "<!-- 596&#45;&gt;597 -->\n",
       "<g id=\"edge17\" class=\"edge\">\n",
       "<title>596&#45;&gt;597</title>\n",
       "<path fill=\"none\" stroke=\"#000000\" d=\"M861.5,-279.9465C861.5,-271.776 861.5,-262.9318 861.5,-254.3697\"/>\n",
       "<polygon fill=\"#000000\" stroke=\"#000000\" points=\"865.0001,-254.13 861.5,-244.13 858.0001,-254.13 865.0001,-254.13\"/>\n",
       "</g>\n",
       "<!-- 1194 -->\n",
       "<g id=\"node25\" class=\"node\">\n",
       "<title>1194</title>\n",
       "<path fill=\"#f0b68c\" stroke=\"#000000\" d=\"M1247,-244C1247,-244 1110,-244 1110,-244 1104,-244 1098,-238 1098,-232 1098,-232 1098,-188 1098,-188 1098,-182 1104,-176 1110,-176 1110,-176 1247,-176 1247,-176 1253,-176 1259,-182 1259,-188 1259,-188 1259,-232 1259,-232 1259,-238 1253,-244 1247,-244\"/>\n",
       "<text text-anchor=\"middle\" x=\"1178.5\" y=\"-228.8\" font-family=\"Helvetica,sans-Serif\" font-size=\"14.00\" fill=\"#000000\">Chl&#45;a &lt;= 0.417</text>\n",
       "<text text-anchor=\"middle\" x=\"1178.5\" y=\"-213.8\" font-family=\"Helvetica,sans-Serif\" font-size=\"14.00\" fill=\"#000000\">squared_error = 4.854</text>\n",
       "<text text-anchor=\"middle\" x=\"1178.5\" y=\"-198.8\" font-family=\"Helvetica,sans-Serif\" font-size=\"14.00\" fill=\"#000000\">samples = 762</text>\n",
       "<text text-anchor=\"middle\" x=\"1178.5\" y=\"-183.8\" font-family=\"Helvetica,sans-Serif\" font-size=\"14.00\" fill=\"#000000\">value = 8.161</text>\n",
       "</g>\n",
       "<!-- 596&#45;&gt;1194 -->\n",
       "<g id=\"edge24\" class=\"edge\">\n",
       "<title>596&#45;&gt;1194</title>\n",
       "<path fill=\"none\" stroke=\"#000000\" d=\"M942.3127,-287.4873C986.8389,-272.8794 1042.2321,-254.7062 1088.1806,-239.6316\"/>\n",
       "<polygon fill=\"#000000\" stroke=\"#000000\" points=\"1089.4242,-242.9072 1097.8349,-236.4643 1087.2421,-236.256 1089.4242,-242.9072\"/>\n",
       "</g>\n",
       "<!-- 598 -->\n",
       "<g id=\"node19\" class=\"node\">\n",
       "<title>598</title>\n",
       "<path fill=\"#f5ceb1\" stroke=\"#000000\" d=\"M889,-140C889,-140 752,-140 752,-140 746,-140 740,-134 740,-128 740,-128 740,-84 740,-84 740,-78 746,-72 752,-72 752,-72 889,-72 889,-72 895,-72 901,-78 901,-84 901,-84 901,-128 901,-128 901,-134 895,-140 889,-140\"/>\n",
       "<text text-anchor=\"middle\" x=\"820.5\" y=\"-124.8\" font-family=\"Helvetica,sans-Serif\" font-size=\"14.00\" fill=\"#000000\">bo &lt;= &#45;0.089</text>\n",
       "<text text-anchor=\"middle\" x=\"820.5\" y=\"-109.8\" font-family=\"Helvetica,sans-Serif\" font-size=\"14.00\" fill=\"#000000\">squared_error = 4.855</text>\n",
       "<text text-anchor=\"middle\" x=\"820.5\" y=\"-94.8\" font-family=\"Helvetica,sans-Serif\" font-size=\"14.00\" fill=\"#000000\">samples = 298</text>\n",
       "<text text-anchor=\"middle\" x=\"820.5\" y=\"-79.8\" font-family=\"Helvetica,sans-Serif\" font-size=\"14.00\" fill=\"#000000\">value = 5.513</text>\n",
       "</g>\n",
       "<!-- 597&#45;&gt;598 -->\n",
       "<g id=\"edge18\" class=\"edge\">\n",
       "<title>597&#45;&gt;598</title>\n",
       "<path fill=\"none\" stroke=\"#000000\" d=\"M848.0751,-175.9465C844.7478,-167.5067 841.1372,-158.3479 837.6584,-149.5239\"/>\n",
       "<polygon fill=\"#000000\" stroke=\"#000000\" points=\"840.8789,-148.1495 833.9551,-140.13 834.3666,-150.7168 840.8789,-148.1495\"/>\n",
       "</g>\n",
       "<!-- 885 -->\n",
       "<g id=\"node22\" class=\"node\">\n",
       "<title>885</title>\n",
       "<path fill=\"#fae5d5\" stroke=\"#000000\" d=\"M1068,-140C1068,-140 931,-140 931,-140 925,-140 919,-134 919,-128 919,-128 919,-84 919,-84 919,-78 925,-72 931,-72 931,-72 1068,-72 1068,-72 1074,-72 1080,-78 1080,-84 1080,-84 1080,-128 1080,-128 1080,-134 1074,-140 1068,-140\"/>\n",
       "<text text-anchor=\"middle\" x=\"999.5\" y=\"-124.8\" font-family=\"Helvetica,sans-Serif\" font-size=\"14.00\" fill=\"#000000\">water_temp &lt;= &#45;1.477</text>\n",
       "<text text-anchor=\"middle\" x=\"999.5\" y=\"-109.8\" font-family=\"Helvetica,sans-Serif\" font-size=\"14.00\" fill=\"#000000\">squared_error = 7.442</text>\n",
       "<text text-anchor=\"middle\" x=\"999.5\" y=\"-94.8\" font-family=\"Helvetica,sans-Serif\" font-size=\"14.00\" fill=\"#000000\">samples = 1006</text>\n",
       "<text text-anchor=\"middle\" x=\"999.5\" y=\"-79.8\" font-family=\"Helvetica,sans-Serif\" font-size=\"14.00\" fill=\"#000000\">value = 2.95</text>\n",
       "</g>\n",
       "<!-- 597&#45;&gt;885 -->\n",
       "<g id=\"edge21\" class=\"edge\">\n",
       "<title>597&#45;&gt;885</title>\n",
       "<path fill=\"none\" stroke=\"#000000\" d=\"M906.6864,-175.9465C919.315,-166.4293 933.1567,-155.9978 946.2068,-146.163\"/>\n",
       "<polygon fill=\"#000000\" stroke=\"#000000\" points=\"948.3325,-148.9437 954.2121,-140.13 944.1195,-143.3534 948.3325,-148.9437\"/>\n",
       "</g>\n",
       "<!-- 599 -->\n",
       "<g id=\"node20\" class=\"node\">\n",
       "<title>599</title>\n",
       "<path fill=\"#c0c0c0\" stroke=\"#000000\" d=\"M780.5,-36C780.5,-36 750.5,-36 750.5,-36 744.5,-36 738.5,-30 738.5,-24 738.5,-24 738.5,-12 738.5,-12 738.5,-6 744.5,0 750.5,0 750.5,0 780.5,0 780.5,0 786.5,0 792.5,-6 792.5,-12 792.5,-12 792.5,-24 792.5,-24 792.5,-30 786.5,-36 780.5,-36\"/>\n",
       "<text text-anchor=\"middle\" x=\"765.5\" y=\"-14.3\" font-family=\"Helvetica,sans-Serif\" font-size=\"14.00\" fill=\"#000000\">(...)</text>\n",
       "</g>\n",
       "<!-- 598&#45;&gt;599 -->\n",
       "<g id=\"edge19\" class=\"edge\">\n",
       "<title>598&#45;&gt;599</title>\n",
       "<path fill=\"none\" stroke=\"#000000\" d=\"M799.2356,-71.9769C793.5819,-62.931 787.557,-53.2913 782.1866,-44.6986\"/>\n",
       "<polygon fill=\"#000000\" stroke=\"#000000\" points=\"785.138,-42.8169 776.87,-36.192 779.202,-46.527 785.138,-42.8169\"/>\n",
       "</g>\n",
       "<!-- 772 -->\n",
       "<g id=\"node21\" class=\"node\">\n",
       "<title>772</title>\n",
       "<path fill=\"#c0c0c0\" stroke=\"#000000\" d=\"M852.5,-36C852.5,-36 822.5,-36 822.5,-36 816.5,-36 810.5,-30 810.5,-24 810.5,-24 810.5,-12 810.5,-12 810.5,-6 816.5,0 822.5,0 822.5,0 852.5,0 852.5,0 858.5,0 864.5,-6 864.5,-12 864.5,-12 864.5,-24 864.5,-24 864.5,-30 858.5,-36 852.5,-36\"/>\n",
       "<text text-anchor=\"middle\" x=\"837.5\" y=\"-14.3\" font-family=\"Helvetica,sans-Serif\" font-size=\"14.00\" fill=\"#000000\">(...)</text>\n",
       "</g>\n",
       "<!-- 598&#45;&gt;772 -->\n",
       "<g id=\"edge20\" class=\"edge\">\n",
       "<title>598&#45;&gt;772</title>\n",
       "<path fill=\"none\" stroke=\"#000000\" d=\"M827.0726,-71.9769C828.7282,-63.4071 830.4867,-54.3043 832.0786,-46.0638\"/>\n",
       "<polygon fill=\"#000000\" stroke=\"#000000\" points=\"835.5253,-46.6743 833.9856,-36.192 828.6524,-45.3465 835.5253,-46.6743\"/>\n",
       "</g>\n",
       "<!-- 886 -->\n",
       "<g id=\"node23\" class=\"node\">\n",
       "<title>886</title>\n",
       "<path fill=\"#c0c0c0\" stroke=\"#000000\" d=\"M959.5,-36C959.5,-36 929.5,-36 929.5,-36 923.5,-36 917.5,-30 917.5,-24 917.5,-24 917.5,-12 917.5,-12 917.5,-6 923.5,0 929.5,0 929.5,0 959.5,0 959.5,0 965.5,0 971.5,-6 971.5,-12 971.5,-12 971.5,-24 971.5,-24 971.5,-30 965.5,-36 959.5,-36\"/>\n",
       "<text text-anchor=\"middle\" x=\"944.5\" y=\"-14.3\" font-family=\"Helvetica,sans-Serif\" font-size=\"14.00\" fill=\"#000000\">(...)</text>\n",
       "</g>\n",
       "<!-- 885&#45;&gt;886 -->\n",
       "<g id=\"edge22\" class=\"edge\">\n",
       "<title>885&#45;&gt;886</title>\n",
       "<path fill=\"none\" stroke=\"#000000\" d=\"M978.2356,-71.9769C972.5819,-62.931 966.557,-53.2913 961.1866,-44.6986\"/>\n",
       "<polygon fill=\"#000000\" stroke=\"#000000\" points=\"964.138,-42.8169 955.87,-36.192 958.202,-46.527 964.138,-42.8169\"/>\n",
       "</g>\n",
       "<!-- 995 -->\n",
       "<g id=\"node24\" class=\"node\">\n",
       "<title>995</title>\n",
       "<path fill=\"#c0c0c0\" stroke=\"#000000\" d=\"M1031.5,-36C1031.5,-36 1001.5,-36 1001.5,-36 995.5,-36 989.5,-30 989.5,-24 989.5,-24 989.5,-12 989.5,-12 989.5,-6 995.5,0 1001.5,0 1001.5,0 1031.5,0 1031.5,0 1037.5,0 1043.5,-6 1043.5,-12 1043.5,-12 1043.5,-24 1043.5,-24 1043.5,-30 1037.5,-36 1031.5,-36\"/>\n",
       "<text text-anchor=\"middle\" x=\"1016.5\" y=\"-14.3\" font-family=\"Helvetica,sans-Serif\" font-size=\"14.00\" fill=\"#000000\">(...)</text>\n",
       "</g>\n",
       "<!-- 885&#45;&gt;995 -->\n",
       "<g id=\"edge23\" class=\"edge\">\n",
       "<title>885&#45;&gt;995</title>\n",
       "<path fill=\"none\" stroke=\"#000000\" d=\"M1006.0726,-71.9769C1007.7282,-63.4071 1009.4867,-54.3043 1011.0786,-46.0638\"/>\n",
       "<polygon fill=\"#000000\" stroke=\"#000000\" points=\"1014.5253,-46.6743 1012.9856,-36.192 1007.6524,-45.3465 1014.5253,-46.6743\"/>\n",
       "</g>\n",
       "<!-- 1195 -->\n",
       "<g id=\"node26\" class=\"node\">\n",
       "<title>1195</title>\n",
       "<path fill=\"#f1bd97\" stroke=\"#000000\" d=\"M1247,-140C1247,-140 1110,-140 1110,-140 1104,-140 1098,-134 1098,-128 1098,-128 1098,-84 1098,-84 1098,-78 1104,-72 1110,-72 1110,-72 1247,-72 1247,-72 1253,-72 1259,-78 1259,-84 1259,-84 1259,-128 1259,-128 1259,-134 1253,-140 1247,-140\"/>\n",
       "<text text-anchor=\"middle\" x=\"1178.5\" y=\"-124.8\" font-family=\"Helvetica,sans-Serif\" font-size=\"14.00\" fill=\"#000000\">water_temp &lt;= 0.943</text>\n",
       "<text text-anchor=\"middle\" x=\"1178.5\" y=\"-109.8\" font-family=\"Helvetica,sans-Serif\" font-size=\"14.00\" fill=\"#000000\">squared_error = 4.651</text>\n",
       "<text text-anchor=\"middle\" x=\"1178.5\" y=\"-94.8\" font-family=\"Helvetica,sans-Serif\" font-size=\"14.00\" fill=\"#000000\">samples = 434</text>\n",
       "<text text-anchor=\"middle\" x=\"1178.5\" y=\"-79.8\" font-family=\"Helvetica,sans-Serif\" font-size=\"14.00\" fill=\"#000000\">value = 7.37</text>\n",
       "</g>\n",
       "<!-- 1194&#45;&gt;1195 -->\n",
       "<g id=\"edge25\" class=\"edge\">\n",
       "<title>1194&#45;&gt;1195</title>\n",
       "<path fill=\"none\" stroke=\"#000000\" d=\"M1178.5,-175.9465C1178.5,-167.776 1178.5,-158.9318 1178.5,-150.3697\"/>\n",
       "<polygon fill=\"#000000\" stroke=\"#000000\" points=\"1182.0001,-150.13 1178.5,-140.13 1175.0001,-150.13 1182.0001,-150.13\"/>\n",
       "</g>\n",
       "<!-- 1556 -->\n",
       "<g id=\"node29\" class=\"node\">\n",
       "<title>1556</title>\n",
       "<path fill=\"#eeac7d\" stroke=\"#000000\" d=\"M1426,-140C1426,-140 1289,-140 1289,-140 1283,-140 1277,-134 1277,-128 1277,-128 1277,-84 1277,-84 1277,-78 1283,-72 1289,-72 1289,-72 1426,-72 1426,-72 1432,-72 1438,-78 1438,-84 1438,-84 1438,-128 1438,-128 1438,-134 1432,-140 1426,-140\"/>\n",
       "<text text-anchor=\"middle\" x=\"1357.5\" y=\"-124.8\" font-family=\"Helvetica,sans-Serif\" font-size=\"14.00\" fill=\"#000000\">water_temp &lt;= 1.6</text>\n",
       "<text text-anchor=\"middle\" x=\"1357.5\" y=\"-109.8\" font-family=\"Helvetica,sans-Serif\" font-size=\"14.00\" fill=\"#000000\">squared_error = 3.201</text>\n",
       "<text text-anchor=\"middle\" x=\"1357.5\" y=\"-94.8\" font-family=\"Helvetica,sans-Serif\" font-size=\"14.00\" fill=\"#000000\">samples = 328</text>\n",
       "<text text-anchor=\"middle\" x=\"1357.5\" y=\"-79.8\" font-family=\"Helvetica,sans-Serif\" font-size=\"14.00\" fill=\"#000000\">value = 9.207</text>\n",
       "</g>\n",
       "<!-- 1194&#45;&gt;1556 -->\n",
       "<g id=\"edge28\" class=\"edge\">\n",
       "<title>1194&#45;&gt;1556</title>\n",
       "<path fill=\"none\" stroke=\"#000000\" d=\"M1237.1113,-175.9465C1253.9555,-166.1599 1272.4636,-155.4066 1289.808,-145.3294\"/>\n",
       "<polygon fill=\"#000000\" stroke=\"#000000\" points=\"1291.8688,-148.18 1298.757,-140.13 1288.3522,-142.1274 1291.8688,-148.18\"/>\n",
       "</g>\n",
       "<!-- 1196 -->\n",
       "<g id=\"node27\" class=\"node\">\n",
       "<title>1196</title>\n",
       "<path fill=\"#c0c0c0\" stroke=\"#000000\" d=\"M1156.5,-36C1156.5,-36 1126.5,-36 1126.5,-36 1120.5,-36 1114.5,-30 1114.5,-24 1114.5,-24 1114.5,-12 1114.5,-12 1114.5,-6 1120.5,0 1126.5,0 1126.5,0 1156.5,0 1156.5,0 1162.5,0 1168.5,-6 1168.5,-12 1168.5,-12 1168.5,-24 1168.5,-24 1168.5,-30 1162.5,-36 1156.5,-36\"/>\n",
       "<text text-anchor=\"middle\" x=\"1141.5\" y=\"-14.3\" font-family=\"Helvetica,sans-Serif\" font-size=\"14.00\" fill=\"#000000\">(...)</text>\n",
       "</g>\n",
       "<!-- 1195&#45;&gt;1196 -->\n",
       "<g id=\"edge26\" class=\"edge\">\n",
       "<title>1195&#45;&gt;1196</title>\n",
       "<path fill=\"none\" stroke=\"#000000\" d=\"M1164.1948,-71.9769C1160.5116,-63.2167 1156.5941,-53.8995 1153.0691,-45.5157\"/>\n",
       "<polygon fill=\"#000000\" stroke=\"#000000\" points=\"1156.2513,-44.0537 1149.1489,-36.192 1149.7984,-46.7669 1156.2513,-44.0537\"/>\n",
       "</g>\n",
       "<!-- 1323 -->\n",
       "<g id=\"node28\" class=\"node\">\n",
       "<title>1323</title>\n",
       "<path fill=\"#c0c0c0\" stroke=\"#000000\" d=\"M1228.5,-36C1228.5,-36 1198.5,-36 1198.5,-36 1192.5,-36 1186.5,-30 1186.5,-24 1186.5,-24 1186.5,-12 1186.5,-12 1186.5,-6 1192.5,0 1198.5,0 1198.5,0 1228.5,0 1228.5,0 1234.5,0 1240.5,-6 1240.5,-12 1240.5,-12 1240.5,-24 1240.5,-24 1240.5,-30 1234.5,-36 1228.5,-36\"/>\n",
       "<text text-anchor=\"middle\" x=\"1213.5\" y=\"-14.3\" font-family=\"Helvetica,sans-Serif\" font-size=\"14.00\" fill=\"#000000\">(...)</text>\n",
       "</g>\n",
       "<!-- 1195&#45;&gt;1323 -->\n",
       "<g id=\"edge27\" class=\"edge\">\n",
       "<title>1195&#45;&gt;1323</title>\n",
       "<path fill=\"none\" stroke=\"#000000\" d=\"M1192.0319,-71.9769C1195.5161,-63.2167 1199.2218,-53.8995 1202.5562,-45.5157\"/>\n",
       "<polygon fill=\"#000000\" stroke=\"#000000\" points=\"1205.821,-46.7775 1206.2646,-36.192 1199.3166,-44.1905 1205.821,-46.7775\"/>\n",
       "</g>\n",
       "<!-- 1557 -->\n",
       "<g id=\"node30\" class=\"node\">\n",
       "<title>1557</title>\n",
       "<path fill=\"#c0c0c0\" stroke=\"#000000\" d=\"M1336.5,-36C1336.5,-36 1306.5,-36 1306.5,-36 1300.5,-36 1294.5,-30 1294.5,-24 1294.5,-24 1294.5,-12 1294.5,-12 1294.5,-6 1300.5,0 1306.5,0 1306.5,0 1336.5,0 1336.5,0 1342.5,0 1348.5,-6 1348.5,-12 1348.5,-12 1348.5,-24 1348.5,-24 1348.5,-30 1342.5,-36 1336.5,-36\"/>\n",
       "<text text-anchor=\"middle\" x=\"1321.5\" y=\"-14.3\" font-family=\"Helvetica,sans-Serif\" font-size=\"14.00\" fill=\"#000000\">(...)</text>\n",
       "</g>\n",
       "<!-- 1556&#45;&gt;1557 -->\n",
       "<g id=\"edge29\" class=\"edge\">\n",
       "<title>1556&#45;&gt;1557</title>\n",
       "<path fill=\"none\" stroke=\"#000000\" d=\"M1343.5815,-71.9769C1339.9977,-63.2167 1336.1862,-53.8995 1332.7564,-45.5157\"/>\n",
       "<polygon fill=\"#000000\" stroke=\"#000000\" points=\"1335.968,-44.1222 1328.9422,-36.192 1329.4891,-46.7727 1335.968,-44.1222\"/>\n",
       "</g>\n",
       "<!-- 1768 -->\n",
       "<g id=\"node31\" class=\"node\">\n",
       "<title>1768</title>\n",
       "<path fill=\"#c0c0c0\" stroke=\"#000000\" d=\"M1408.5,-36C1408.5,-36 1378.5,-36 1378.5,-36 1372.5,-36 1366.5,-30 1366.5,-24 1366.5,-24 1366.5,-12 1366.5,-12 1366.5,-6 1372.5,0 1378.5,0 1378.5,0 1408.5,0 1408.5,0 1414.5,0 1420.5,-6 1420.5,-12 1420.5,-12 1420.5,-24 1420.5,-24 1420.5,-30 1414.5,-36 1408.5,-36\"/>\n",
       "<text text-anchor=\"middle\" x=\"1393.5\" y=\"-14.3\" font-family=\"Helvetica,sans-Serif\" font-size=\"14.00\" fill=\"#000000\">(...)</text>\n",
       "</g>\n",
       "<!-- 1556&#45;&gt;1768 -->\n",
       "<g id=\"edge30\" class=\"edge\">\n",
       "<title>1556&#45;&gt;1768</title>\n",
       "<path fill=\"none\" stroke=\"#000000\" d=\"M1371.4185,-71.9769C1375.0023,-63.2167 1378.8138,-53.8995 1382.2436,-45.5157\"/>\n",
       "<polygon fill=\"#000000\" stroke=\"#000000\" points=\"1385.5109,-46.7727 1386.0578,-36.192 1379.032,-44.1222 1385.5109,-46.7727\"/>\n",
       "</g>\n",
       "</g>\n",
       "</svg>\n"
      ],
      "text/plain": [
       "<graphviz.files.Source at 0x7ff798549bd0>"
      ]
     },
     "execution_count": 66,
     "metadata": {},
     "output_type": "execute_result"
    }
   ],
   "source": [
    "import graphviz\n",
    "\n",
    "# 위에서 생성된 tree.dot 파일을 Graphviz 읽어서 Jupyter Notebook상에서 시각화 \n",
    "with open(\"/content/model.dot\") as f:\n",
    "    dot_graph = f.read()\n",
    "src = graphviz.Source(dot_graph)\n",
    "src"
   ]
  },
  {
   "cell_type": "code",
   "execution_count": 50,
   "metadata": {
    "colab": {
     "base_uri": "https://localhost:8080/",
     "height": 35
    },
    "id": "5lZcpfmnKSy6",
    "outputId": "d13e0a4a-cf7f-49a1-a8c2-13ebccfbd9b2"
   },
   "outputs": [
    {
     "data": {
      "application/vnd.google.colaboratory.intrinsic+json": {
       "type": "string"
      },
      "text/plain": [
       "'Source.gv.pdf'"
      ]
     },
     "execution_count": 50,
     "metadata": {},
     "output_type": "execute_result"
    }
   ],
   "source": [
    "src.view()"
   ]
  },
  {
   "cell_type": "code",
   "execution_count": null,
   "metadata": {
    "colab": {
     "base_uri": "https://localhost:8080/",
     "height": 1000
    },
    "id": "E-LcI54opGGK",
    "outputId": "e997bd1d-72cd-43d4-bc5a-0ae3855ea8e4"
   },
   "outputs": [
    {
     "data": {
      "text/plain": [
       "([<matplotlib.axis.YTick at 0x7ff405f13a10>,\n",
       "  <matplotlib.axis.YTick at 0x7ff405f3e2d0>,\n",
       "  <matplotlib.axis.YTick at 0x7ff405f63610>,\n",
       "  <matplotlib.axis.YTick at 0x7ff405eef690>,\n",
       "  <matplotlib.axis.YTick at 0x7ff405eefbd0>,\n",
       "  <matplotlib.axis.YTick at 0x7ff405e76090>,\n",
       "  <matplotlib.axis.YTick at 0x7ff405eef7d0>,\n",
       "  <matplotlib.axis.YTick at 0x7ff405e76110>,\n",
       "  <matplotlib.axis.YTick at 0x7ff405e76cd0>,\n",
       "  <matplotlib.axis.YTick at 0x7ff405e7c2d0>,\n",
       "  <matplotlib.axis.YTick at 0x7ff405e7c750>,\n",
       "  <matplotlib.axis.YTick at 0x7ff405e7cc90>,\n",
       "  <matplotlib.axis.YTick at 0x7ff405e84290>,\n",
       "  <matplotlib.axis.YTick at 0x7ff405e84750>,\n",
       "  <matplotlib.axis.YTick at 0x7ff405e84c90>,\n",
       "  <matplotlib.axis.YTick at 0x7ff405e8d290>,\n",
       "  <matplotlib.axis.YTick at 0x7ff405e846d0>,\n",
       "  <matplotlib.axis.YTick at 0x7ff405e7c450>,\n",
       "  <matplotlib.axis.YTick at 0x7ff405e7c1d0>,\n",
       "  <matplotlib.axis.YTick at 0x7ff405e8da50>,\n",
       "  <matplotlib.axis.YTick at 0x7ff405e8ded0>,\n",
       "  <matplotlib.axis.YTick at 0x7ff405e96450>,\n",
       "  <matplotlib.axis.YTick at 0x7ff405e96990>,\n",
       "  <matplotlib.axis.YTick at 0x7ff405e96ed0>],\n",
       " [Text(0, 0, 'region'),\n",
       "  Text(0, 0, 'month'),\n",
       "  Text(0, 0, 'season'),\n",
       "  Text(0, 0, 'water_temp'),\n",
       "  Text(0, 0, 'pH'),\n",
       "  Text(0, 0, 'DO'),\n",
       "  Text(0, 0, 'Chl-a'),\n",
       "  Text(0, 0, 'scrap_around_3'),\n",
       "  Text(0, 0, 'scrap_around_5'),\n",
       "  Text(0, 0, 'scrap_around_7'),\n",
       "  Text(0, 0, 'scrap_around_10'),\n",
       "  Text(0, 0, 'fac_3'),\n",
       "  Text(0, 0, 'fac_5'),\n",
       "  Text(0, 0, 'fac_7'),\n",
       "  Text(0, 0, 'fac_10'),\n",
       "  Text(0, 0, 'av_temp'),\n",
       "  Text(0, 0, 'day_rain'),\n",
       "  Text(0, 0, 'av_windspeed'),\n",
       "  Text(0, 0, 'bo'),\n",
       "  Text(0, 0, 'inflowqy_std'),\n",
       "  Text(0, 0, 'lowlevel_std'),\n",
       "  Text(0, 0, 'prcptqy_std'),\n",
       "  Text(0, 0, 'rsvwtrt_std'),\n",
       "  Text(0, 0, 'totdcwtrqy_std')])"
      ]
     },
     "execution_count": 49,
     "metadata": {},
     "output_type": "execute_result"
    },
    {
     "data": {
      "image/png": "[encoded data removed]",
      "text/plain": [
       "<Figure size 1080x720 with 1 Axes>"
      ]
     },
     "metadata": {
      "needs_background": "light"
     },
     "output_type": "display_data"
    }
   ],
   "source": [
    "fig , ax = plt.subplots(figsize = (15,10))\n",
    "imp = model.feature_importances_\n",
    "plt.barh(range(len(imp)), imp)        # 변수 중요도\n",
    "plt.yticks( range(len(imp)) , X.columns ) "
   ]
  }
 ],
 "metadata": {
  "colab": {
   "collapsed_sections": [],
   "provenance": []
  },
  "kernelspec": {
   "display_name": "Python 3 (ipykernel)",
   "language": "python",
   "name": "python3"
  },
  "language_info": {
   "codemirror_mode": {
    "name": "ipython",
    "version": 3
   },
   "file_extension": ".py",
   "mimetype": "text/x-python",
   "name": "python",
   "nbconvert_exporter": "python",
   "pygments_lexer": "ipython3",
   "version": "3.9.7"
  }
 },
 "nbformat": 4,
 "nbformat_minor": 1
}
